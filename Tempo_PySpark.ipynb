{
  "nbformat": 4,
  "nbformat_minor": 0,
  "metadata": {
    "colab": {
      "provenance": [],
      "collapsed_sections": []
    },
    "kernelspec": {
      "name": "python3",
      "display_name": "Python 3"
    },
    "language_info": {
      "name": "python"
    }
  },
  "cells": [
    {
      "cell_type": "code",
      "source": [
        "#intalar java\n",
        "!apt-get install openjdk-8-jdk-headless -qq > /dev/null"
      ],
      "metadata": {
        "id": "OVWRC1tWZ5_6"
      },
      "execution_count": 1,
      "outputs": []
    },
    {
      "cell_type": "code",
      "source": [
        "#baixar a versão mais recente do spark\n",
        "!wget -q https://dlcdn.apache.org/spark/spark-3.3.1/spark-3.3.1-bin-hadoop2.tgz"
      ],
      "metadata": {
        "id": "fQU81AhvZ7_K"
      },
      "execution_count": 9,
      "outputs": []
    },
    {
      "cell_type": "code",
      "source": [
        "#deszipar o spark\n",
        "!tar xf /content/spark-3.3.1-bin-hadoop2.tgz"
      ],
      "metadata": {
        "id": "n-cwzqqXZ96q"
      },
      "execution_count": 10,
      "outputs": []
    },
    {
      "cell_type": "code",
      "source": [
        "#criar as variaveis de ambiente\n",
        "import os \n",
        "os.environ[\"JAVA_HOME\"] = \"/usr/lib/jvm/java-8-openjdk-amd64\"\n",
        "os.environ['SPARK_HOME'] = '/content/spark-3.3.1-bin-hadoop2'"
      ],
      "metadata": {
        "id": "WGAIBo8uZ_4a"
      },
      "execution_count": 16,
      "outputs": []
    },
    {
      "cell_type": "code",
      "source": [
        "#Instalar a lib findspark que a ajuda a localizar o Spark no sistema e importá-lo como uma biblioteca regular. \n",
        "!pip install -q findspark"
      ],
      "metadata": {
        "id": "lDVzGXTkaBoC"
      },
      "execution_count": 17,
      "outputs": []
    },
    {
      "cell_type": "code",
      "source": [
        "!pip install pandas"
      ],
      "metadata": {
        "id": "Tae3PI3nNeOG",
        "colab": {
          "base_uri": "https://localhost:8080/"
        },
        "outputId": "bc2bcffc-0caa-42a5-aa1d-3cb1c9276c89"
      },
      "execution_count": 22,
      "outputs": [
        {
          "output_type": "stream",
          "name": "stdout",
          "text": [
            "Looking in indexes: https://pypi.org/simple, https://us-python.pkg.dev/colab-wheels/public/simple/\n",
            "Requirement already satisfied: pandas in /usr/local/lib/python3.7/dist-packages (1.3.5)\n",
            "Requirement already satisfied: numpy>=1.17.3 in /usr/local/lib/python3.7/dist-packages (from pandas) (1.21.6)\n",
            "Requirement already satisfied: pytz>=2017.3 in /usr/local/lib/python3.7/dist-packages (from pandas) (2022.5)\n",
            "Requirement already satisfied: python-dateutil>=2.7.3 in /usr/local/lib/python3.7/dist-packages (from pandas) (2.8.2)\n",
            "Requirement already satisfied: six>=1.5 in /usr/local/lib/python3.7/dist-packages (from python-dateutil>=2.7.3->pandas) (1.15.0)\n"
          ]
        }
      ]
    },
    {
      "cell_type": "code",
      "source": [
        "import findspark\n",
        "findspark.init()\n",
        "\n"
      ],
      "metadata": {
        "id": "Nip-tclZ0DlD"
      },
      "execution_count": 19,
      "outputs": []
    },
    {
      "cell_type": "code",
      "source": [
        "\n",
        "\n",
        "# Criar data frame com as previsões\n",
        "# TODO\n",
        "\n",
        "# Criar view com as previsões\n",
        "# TODO"
      ],
      "metadata": {
        "id": "_IXmAWDS0HkV"
      },
      "execution_count": 20,
      "outputs": []
    },
    {
      "cell_type": "code",
      "source": [
        "#Criar spark session\n",
        "from pyspark.sql import SparkSession\n",
        "spark = SparkSession.builder \\\n",
        "      .master(\"local\") \\\n",
        "      .appName(\"python_do_tempo\") \\\n",
        "      .getOrCreate()"
      ],
      "metadata": {
        "id": "Lr8yUd328AV5"
      },
      "execution_count": 21,
      "outputs": []
    },
    {
      "cell_type": "code",
      "source": [
        "! pip install pyowm"
      ],
      "metadata": {
        "id": "mC8zazjpmNiI",
        "colab": {
          "base_uri": "https://localhost:8080/"
        },
        "outputId": "1605b834-754b-48b3-f729-9a8d887c82b7"
      },
      "execution_count": 23,
      "outputs": [
        {
          "output_type": "stream",
          "name": "stdout",
          "text": [
            "Looking in indexes: https://pypi.org/simple, https://us-python.pkg.dev/colab-wheels/public/simple/\n",
            "Collecting pyowm\n",
            "  Downloading pyowm-3.3.0-py3-none-any.whl (4.5 MB)\n",
            "\u001b[K     |████████████████████████████████| 4.5 MB 9.2 MB/s \n",
            "\u001b[?25hRequirement already satisfied: PySocks<2,>=1.7.1 in /usr/local/lib/python3.7/dist-packages (from pyowm) (1.7.1)\n",
            "Requirement already satisfied: requests[socks] in /usr/local/lib/python3.7/dist-packages (from pyowm) (2.23.0)\n",
            "Collecting geojson<3,>=2.3.0\n",
            "  Downloading geojson-2.5.0-py2.py3-none-any.whl (14 kB)\n",
            "Requirement already satisfied: urllib3!=1.25.0,!=1.25.1,<1.26,>=1.21.1 in /usr/local/lib/python3.7/dist-packages (from requests[socks]->pyowm) (1.24.3)\n",
            "Requirement already satisfied: idna<3,>=2.5 in /usr/local/lib/python3.7/dist-packages (from requests[socks]->pyowm) (2.10)\n",
            "Requirement already satisfied: chardet<4,>=3.0.2 in /usr/local/lib/python3.7/dist-packages (from requests[socks]->pyowm) (3.0.4)\n",
            "Requirement already satisfied: certifi>=2017.4.17 in /usr/local/lib/python3.7/dist-packages (from requests[socks]->pyowm) (2022.9.24)\n",
            "Installing collected packages: geojson, pyowm\n",
            "Successfully installed geojson-2.5.0 pyowm-3.3.0\n"
          ]
        }
      ]
    },
    {
      "cell_type": "code",
      "source": [
        "!pip install requests "
      ],
      "metadata": {
        "id": "_l55-Hl9nGE8",
        "colab": {
          "base_uri": "https://localhost:8080/"
        },
        "outputId": "29316cb4-98fd-4502-aa6b-ca80dbf6061e"
      },
      "execution_count": 24,
      "outputs": [
        {
          "output_type": "stream",
          "name": "stdout",
          "text": [
            "Looking in indexes: https://pypi.org/simple, https://us-python.pkg.dev/colab-wheels/public/simple/\n",
            "Requirement already satisfied: requests in /usr/local/lib/python3.7/dist-packages (2.23.0)\n",
            "Requirement already satisfied: certifi>=2017.4.17 in /usr/local/lib/python3.7/dist-packages (from requests) (2022.9.24)\n",
            "Requirement already satisfied: urllib3!=1.25.0,!=1.25.1,<1.26,>=1.21.1 in /usr/local/lib/python3.7/dist-packages (from requests) (1.24.3)\n",
            "Requirement already satisfied: idna<3,>=2.5 in /usr/local/lib/python3.7/dist-packages (from requests) (2.10)\n",
            "Requirement already satisfied: chardet<4,>=3.0.2 in /usr/local/lib/python3.7/dist-packages (from requests) (3.0.4)\n"
          ]
        }
      ]
    },
    {
      "cell_type": "code",
      "source": [
        "import requests "
      ],
      "metadata": {
        "id": "zZdbxhuoqPl5"
      },
      "execution_count": 25,
      "outputs": []
    },
    {
      "cell_type": "code",
      "source": [
        "# Buscar cidades do Vale do Paraíba\n"
      ],
      "metadata": {
        "id": "mqTOcQubTQSl"
      },
      "execution_count": 26,
      "outputs": []
    },
    {
      "cell_type": "code",
      "source": [
        "link_cidade = 'https://servicodados.ibge.gov.br/api/v1/localidades/mesorregioes/3513/municipios'"
      ],
      "metadata": {
        "id": "2N2gQES0yPlo"
      },
      "execution_count": 27,
      "outputs": []
    },
    {
      "cell_type": "code",
      "source": [
        "requisicao_cidades = requests.get(link_cidade)"
      ],
      "metadata": {
        "id": "9V1a_MwjyJgF"
      },
      "execution_count": 28,
      "outputs": []
    },
    {
      "cell_type": "code",
      "source": [
        "cidades_dic = (requisicao_cidades.json())"
      ],
      "metadata": {
        "id": "U6qxO8fpyWsu"
      },
      "execution_count": 29,
      "outputs": []
    },
    {
      "cell_type": "code",
      "source": [
        "# Criar data frame com as cidades"
      ],
      "metadata": {
        "id": "x7PHYHeBTVNm"
      },
      "execution_count": 30,
      "outputs": []
    },
    {
      "cell_type": "code",
      "source": [
        "import pandas as pd"
      ],
      "metadata": {
        "id": "8vCS3bumQAOo"
      },
      "execution_count": 31,
      "outputs": []
    },
    {
      "cell_type": "code",
      "source": [
        "df = pd.DataFrame(cidades_dic)"
      ],
      "metadata": {
        "id": "DOFs9OUMOpWj"
      },
      "execution_count": 32,
      "outputs": []
    },
    {
      "cell_type": "code",
      "source": [
        "df.to_csv('cidades_csv')"
      ],
      "metadata": {
        "id": "0PzMwHxlPBRF"
      },
      "execution_count": 33,
      "outputs": []
    },
    {
      "cell_type": "code",
      "source": [
        "df_cid = spark.read.csv('cidades_csv', header = True, inferSchema=True)"
      ],
      "metadata": {
        "id": "-JGODS9lQVoR"
      },
      "execution_count": 34,
      "outputs": []
    },
    {
      "cell_type": "code",
      "source": [
        "# Criar view com as cidades"
      ],
      "metadata": {
        "id": "TLJehl9xTd2U"
      },
      "execution_count": 35,
      "outputs": []
    },
    {
      "cell_type": "code",
      "source": [
        "for nome in range(len(cidades_dic)):\n",
        "  cidade = (cidades_dic[nome]['nome'])\n",
        "  print(cidade)"
      ],
      "metadata": {
        "id": "u22KNLghTgnq",
        "colab": {
          "base_uri": "https://localhost:8080/"
        },
        "outputId": "143aeb37-aa08-49be-bc2c-614d0279bf0f"
      },
      "execution_count": 36,
      "outputs": [
        {
          "output_type": "stream",
          "name": "stdout",
          "text": [
            "Aparecida\n",
            "Arapeí\n",
            "Areias\n",
            "Bananal\n",
            "Caçapava\n",
            "Cachoeira Paulista\n",
            "Campos do Jordão\n",
            "Canas\n",
            "Caraguatatuba\n",
            "Cruzeiro\n",
            "Cunha\n",
            "Guaratinguetá\n",
            "Igaratá\n",
            "Ilhabela\n",
            "Jacareí\n",
            "Jambeiro\n",
            "Lagoinha\n",
            "Lavrinhas\n",
            "Lorena\n",
            "Monteiro Lobato\n",
            "Natividade da Serra\n",
            "Paraibuna\n",
            "Pindamonhangaba\n",
            "Piquete\n",
            "Potim\n",
            "Queluz\n",
            "Redenção da Serra\n",
            "Roseira\n",
            "Santa Branca\n",
            "Santo Antônio do Pinhal\n",
            "São Bento do Sapucaí\n",
            "São José do Barreiro\n",
            "São José dos Campos\n",
            "São Luiz do Paraitinga\n",
            "São Sebastião\n",
            "Silveiras\n",
            "Taubaté\n",
            "Tremembé\n",
            "Ubatuba\n"
          ]
        }
      ]
    },
    {
      "cell_type": "code",
      "source": [
        "api_key = '9f491f050ea538d2921dec7ca8b878c8'"
      ],
      "metadata": {
        "id": "H3gJD-zI22eB"
      },
      "execution_count": 37,
      "outputs": []
    },
    {
      "cell_type": "code",
      "source": [
        "from datetime import datetime,timezone,timedelta,tzinfo,date\n",
        "from dateutil import tz\n",
        "import pytz"
      ],
      "metadata": {
        "id": "4v8Bz28KzPrK"
      },
      "execution_count": 38,
      "outputs": []
    },
    {
      "cell_type": "code",
      "source": [],
      "metadata": {
        "id": "ct_fYBxLVqvE"
      },
      "execution_count": 38,
      "outputs": []
    },
    {
      "cell_type": "code",
      "source": [
        "Cidade = []\n",
        "CodigoDaCidade = []\n",
        "Data  = []\n",
        "Regiao  = []\n",
        "Pais = []\n",
        "Latitude  = []\n",
        "Longigute = []\n",
        "TemperaturaMaxima  = []\n",
        "TemperaturaMinima = []\n",
        "TemperaturaMedia = []\n",
        "VaiChover = []\n",
        "ChanceDeChuva = []\n",
        "CondicaoDoTempo = []\n",
        "NascerDoSol = []\n",
        "PorDoSol = []\n",
        "VelocidadeMaximaDoVento = []\n",
        "cidade2=[]\n",
        "_chuva=[]\n",
        "_sol=[]\n",
        "_map=[]"
      ],
      "metadata": {
        "id": "ev0DR8onUmtH"
      },
      "execution_count": 265,
      "outputs": []
    },
    {
      "cell_type": "code",
      "source": [
        "from sys import float_info\n",
        "# Buscar previsão do tempo para as cidades\n",
        "#for nome in range(len(cidades_dic)):\n",
        "for nome in range (4):\n",
        "  city = (cidades_dic[nome]['nome'])\n",
        "  link = f'https://api.openweathermap.org/data/2.5/forecast?q={city},br&appid={api_key}&lang=pt_br&cnt=40&units=metric'\n",
        "  requisicao = requests.get(link)\n",
        "  requisicao_dic = (requisicao.json())\n",
        "  cont_chuva = cont_sol =dias_map= 0\n",
        "  cidade2.append(city)\n",
        "  for dt in requisicao_dic['list'][::8]:\n",
        "    CodigoDaCidade.append(cidades_dic[nome]['id'])\n",
        "    Cidade.append(city)\n",
        "    Data.append(dt['dt_txt'])\n",
        "    Regiao.append(cidades_dic[nome]['microrregiao']['mesorregiao']['UF']['regiao']['nome'])\n",
        "    Pais.append(requisicao_dic['city']['country'])\n",
        "    Latitude.append(requisicao_dic['city']['coord']['lat'])\n",
        "    Longigute.append(requisicao_dic['city']['coord']['lon'])\n",
        "    TempMin=(float(requisicao_dic['list'][0]['main']['temp_min']))\n",
        "    TemperaturaMinima.append(TempMin)\n",
        "    TempMax=(float(requisicao_dic['list'][0]['main']['temp_max']))\n",
        "    TemperaturaMaxima.append(TempMax)\n",
        "    TemperaturaMedia.append((TempMax+TempMin)/2)\n",
        "    ChanceDeChuva.append(((dt['pop'])*100))\n",
        "    chuva = (int((dt['pop'])*100))\n",
        "    if chuva > 30:\n",
        "      VaiChover.append('Sim')\n",
        "      cont_chuva+=1\n",
        "    elif chuva <= 30:\n",
        "      VaiChover.append('Não')\n",
        "      cont_sol+=1\n",
        "    else:\n",
        "      VaiChover.append('Erro')\n",
        "    dias_map+=1  \n",
        "    CondicaoDoTempo.append(dt['weather'][0]['description'])\n",
        "    nascer = datetime.utcfromtimestamp((requisicao_dic['city']['sunrise'])).strftime('%H:%M:%S %Z')\n",
        "    NascerDoSol.append(nascer)\n",
        "    por = datetime.utcfromtimestamp((requisicao_dic['city']['sunset'])).strftime('%Y-%m-%d %H:%M:%S %Z%z')\n",
        "    PorDoSol.append(por)\n",
        "    VelocidadeMaximaDoVento.append(dt['wind']['speed'])\n",
        "  _chuva.append(cont_chuva)\n",
        "  _sol.append(cont_sol)\n",
        "  _map.append(dias_map)\n",
        "\n"
      ],
      "metadata": {
        "id": "uhyfK2-Bx2MU"
      },
      "execution_count": 266,
      "outputs": []
    },
    {
      "cell_type": "code",
      "source": [
        "#time = datetime.utcfromtimestamp(requisicao_dic['city']['timezone']).strftime('%H:%M:%S')\n",
        "print(por)\n",
        "#print(requisicao_dic['city']['timezone'])\n",
        "#for vr2 in requisicao_dic['city']:\n",
        "#  print(vr2)"
      ],
      "metadata": {
        "colab": {
          "base_uri": "https://localhost:8080/"
        },
        "id": "YGsnOK_cwMdR",
        "outputId": "0adfce54-c62e-4f48-bfab-c832df65a417"
      },
      "execution_count": 257,
      "outputs": [
        {
          "output_type": "stream",
          "name": "stdout",
          "text": [
            "2022-10-26 21:06:02 \n"
          ]
        }
      ]
    },
    {
      "cell_type": "code",
      "source": [
        "tabela_1={'Cidade' : Cidade, 'CodigoDaCidade':CodigoDaCidade, 'Data':Data, 'Regiao': Regiao, 'Pais':Pais, 'Latitude':Latitude,\n",
        "          'Longigute':Longigute, 'TemperaturaMaxima': TemperaturaMaxima, 'TemperaturaMinima': TemperaturaMinima, 'TemperaturaMedia': TemperaturaMedia,\n",
        "          'VaiChover': VaiChover, 'ChanceDeChuva(%)': ChanceDeChuva, 'CondicaoDoTempo': CondicaoDoTempo, 'NascerDoSol': NascerDoSol,\n",
        "          'PorDoSol': PorDoSol, 'VelocidadeMaximaDoVento(metro/s)' : VelocidadeMaximaDoVento}"
      ],
      "metadata": {
        "id": "iL8D2JWc-VwB"
      },
      "execution_count": 267,
      "outputs": []
    },
    {
      "cell_type": "code",
      "source": [
        "# Criar DF da Tabela 1\n",
        "df_tabela1 = pd.DataFrame(tabela_1)\n",
        "df_tabela1.to_csv('df_tabela1_csv')\n",
        "df_tabela1 = spark.read.csv('df_tabela1_csv', header = True, inferSchema=True)\n",
        "df_tabela1.show()"
      ],
      "metadata": {
        "id": "A6kiUkNuWJ2I",
        "colab": {
          "base_uri": "https://localhost:8080/"
        },
        "outputId": "8ea1637c-4d1a-4b4d-c57b-dbcd73a82778"
      },
      "execution_count": 268,
      "outputs": [
        {
          "output_type": "stream",
          "name": "stdout",
          "text": [
            "+---+---------+--------------+-------------------+-------+----+--------+---------+-----------------+-----------------+----------------+---------+------------------+---------------+-------------------+-------------------+--------------------------------+\n",
            "|_c0|   Cidade|CodigoDaCidade|               Data| Regiao|Pais|Latitude|Longigute|TemperaturaMaxima|TemperaturaMinima|TemperaturaMedia|VaiChover|  ChanceDeChuva(%)|CondicaoDoTempo|        NascerDoSol|           PorDoSol|VelocidadeMaximaDoVento(metro/s)|\n",
            "+---+---------+--------------+-------------------+-------+----+--------+---------+-----------------+-----------------+----------------+---------+------------------+---------------+-------------------+-------------------+--------------------------------+\n",
            "|  0|Aparecida|       3502507|2022-10-26 21:00:00|Sudeste|  BR|-22.8469| -45.2297|            29.83|            23.47|           26.65|      Não|               1.0| algumas nuvens|2022-10-26 08:19:41|2022-10-26 21:09:51|                            2.54|\n",
            "|  1|Aparecida|       3502507|2022-10-27 21:00:00|Sudeste|  BR|-22.8469| -45.2297|            29.83|            23.47|           26.65|      Não|               0.0|        nublado|2022-10-26 08:19:41|2022-10-26 21:09:51|                            1.36|\n",
            "|  2|Aparecida|       3502507|2022-10-28 21:00:00|Sudeste|  BR|-22.8469| -45.2297|            29.83|            23.47|           26.65|      Sim|              98.0| chuva moderada|2022-10-26 08:19:41|2022-10-26 21:09:51|                            1.51|\n",
            "|  3|Aparecida|       3502507|2022-10-29 21:00:00|Sudeste|  BR|-22.8469| -45.2297|            29.83|            23.47|           26.65|      Sim|              91.0|     chuva leve|2022-10-26 08:19:41|2022-10-26 21:09:51|                            1.74|\n",
            "|  4|Aparecida|       3502507|2022-10-30 21:00:00|Sudeste|  BR|-22.8469| -45.2297|            29.83|            23.47|           26.65|      Sim|              40.0| algumas nuvens|2022-10-26 08:19:41|2022-10-26 21:09:51|                             1.0|\n",
            "|  5|   Arapeí|       3503158|2022-10-26 21:00:00|Sudeste|  BR|-22.6739| -44.4478|             21.2|             21.2|            21.2|      Sim|              37.0|     chuva leve|2022-10-26 08:16:44|2022-10-26 21:06:32|                            1.42|\n",
            "|  6|   Arapeí|       3503158|2022-10-27 21:00:00|Sudeste|  BR|-22.6739| -44.4478|             21.2|             21.2|            21.2|      Não|               0.0|        nublado|2022-10-26 08:16:44|2022-10-26 21:06:32|                            0.65|\n",
            "|  7|   Arapeí|       3503158|2022-10-28 21:00:00|Sudeste|  BR|-22.6739| -44.4478|             21.2|             21.2|            21.2|      Sim|              98.0|    chuva forte|2022-10-26 08:16:44|2022-10-26 21:06:32|                            1.29|\n",
            "|  8|   Arapeí|       3503158|2022-10-29 21:00:00|Sudeste|  BR|-22.6739| -44.4478|             21.2|             21.2|            21.2|      Sim|              94.0| chuva moderada|2022-10-26 08:16:44|2022-10-26 21:06:32|                            0.57|\n",
            "|  9|   Arapeí|       3503158|2022-10-30 21:00:00|Sudeste|  BR|-22.6739| -44.4478|             21.2|             21.2|            21.2|      Sim|              33.0|     chuva leve|2022-10-26 08:16:44|2022-10-26 21:06:32|                            1.43|\n",
            "| 10|   Areias|       3503505|2022-10-26 21:00:00|Sudeste|  BR|-19.4471| -44.1883|            29.73|            25.66|          27.695|      Não|              22.0|        nublado|2022-10-26 08:19:04|2022-10-26 21:02:07|                            1.74|\n",
            "| 11|   Areias|       3503505|2022-10-27 21:00:00|Sudeste|  BR|-19.4471| -44.1883|            29.73|            25.66|          27.695|      Não|               0.0|        nublado|2022-10-26 08:19:04|2022-10-26 21:02:07|                            3.46|\n",
            "| 12|   Areias|       3503505|2022-10-28 21:00:00|Sudeste|  BR|-19.4471| -44.1883|            29.73|            25.66|          27.695|      Não|               0.0|        nublado|2022-10-26 08:19:04|2022-10-26 21:02:07|                            3.97|\n",
            "| 13|   Areias|       3503505|2022-10-29 21:00:00|Sudeste|  BR|-19.4471| -44.1883|            29.73|            25.66|          27.695|      Não|               0.0|        nublado|2022-10-26 08:19:04|2022-10-26 21:02:07|                            1.91|\n",
            "| 14|   Areias|       3503505|2022-10-30 21:00:00|Sudeste|  BR|-19.4471| -44.1883|            29.73|            25.66|          27.695|      Não|28.999999999999996|     chuva leve|2022-10-26 08:19:04|2022-10-26 21:02:07|                            2.44|\n",
            "| 15|  Bananal|       3504909|2022-10-26 21:00:00|Sudeste|  BR|-22.6836| -44.3233|            21.41|            21.41|           21.41|      Sim|              37.0|     chuva leve|2022-10-26 08:16:14|2022-10-26 21:06:02|                            1.67|\n",
            "| 16|  Bananal|       3504909|2022-10-27 21:00:00|Sudeste|  BR|-22.6836| -44.3233|            21.41|            21.41|           21.41|      Não|               0.0|        nublado|2022-10-26 08:16:14|2022-10-26 21:06:02|                            0.79|\n",
            "| 17|  Bananal|       3504909|2022-10-28 21:00:00|Sudeste|  BR|-22.6836| -44.3233|            21.41|            21.41|           21.41|      Sim|              99.0| chuva moderada|2022-10-26 08:16:14|2022-10-26 21:06:02|                            1.55|\n",
            "| 18|  Bananal|       3504909|2022-10-29 21:00:00|Sudeste|  BR|-22.6836| -44.3233|            21.41|            21.41|           21.41|      Sim|              92.0| chuva moderada|2022-10-26 08:16:14|2022-10-26 21:06:02|                            0.83|\n",
            "| 19|  Bananal|       3504909|2022-10-30 21:00:00|Sudeste|  BR|-22.6836| -44.3233|            21.41|            21.41|           21.41|      Não|              27.0|     chuva leve|2022-10-26 08:16:14|2022-10-26 21:06:02|                            1.69|\n",
            "+---+---------+--------------+-------------------+-------+----+--------+---------+-----------------+-----------------+----------------+---------+------------------+---------------+-------------------+-------------------+--------------------------------+\n",
            "\n"
          ]
        }
      ]
    },
    {
      "cell_type": "code",
      "source": [
        "# Criar DF da Tabela 2\n",
        "tabela_2={}\n",
        "\n",
        "tabela_2={'Cidade' : cidade2, 'QtdDiasVaiChover':_chuva, 'QtdDiasNaoVaiChover':_sol,'TotalDiasMapeados':_map}\n",
        "# Exportar CSVs\n",
        "df_tabela2 = pd.DataFrame(tabela_2)\n",
        "# TODO\n",
        "df_tabela2.to_csv('df_tabela2_csv')\n",
        "df_tabela2 = spark.read.csv('/content/df_tabela2_csv', header = True, inferSchema=True)\n",
        "df_tabela2.show()"
      ],
      "metadata": {
        "id": "NdSWhFfo0K40",
        "colab": {
          "base_uri": "https://localhost:8080/"
        },
        "outputId": "a9ef49ad-afd6-45c6-9d5a-7cee33d4b4f7"
      },
      "execution_count": 244,
      "outputs": [
        {
          "output_type": "stream",
          "name": "stdout",
          "text": [
            "+---+---------+----------------+-------------------+-----------------+\n",
            "|_c0|   Cidade|QtdDiasVaiChover|QtdDiasNaoVaiChover|TotalDiasMapeados|\n",
            "+---+---------+----------------+-------------------+-----------------+\n",
            "|  0|Aparecida|               1|                  4|                5|\n",
            "|  1|   Arapeí|               1|                  4|                5|\n",
            "|  2|   Areias|               2|                  3|                5|\n",
            "|  3|  Bananal|               1|                  4|                5|\n",
            "+---+---------+----------------+-------------------+-----------------+\n",
            "\n"
          ]
        }
      ]
    }
  ]
}
